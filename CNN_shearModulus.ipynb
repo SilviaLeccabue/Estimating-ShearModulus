{
  "cells": [
    {
      "cell_type": "code",
      "execution_count": null,
      "metadata": {
        "id": "Mk-dtV3KEqGw"
      },
      "outputs": [],
      "source": [
        "from google.colab import files\n",
        "from google.colab import drive\n",
        "from google.colab.patches import cv2_imshow\n",
        "\n",
        "from io import BytesIO\n",
        "\n",
        "import numpy as np\n",
        "\n",
        "import pandas as pd\n",
        "\n",
        "import sys, os, re, csv, codecs\n",
        "from os import listdir\n",
        "\n",
        "import tensorflow as tf\n",
        "\n",
        "import cv2\n",
        "\n",
        "import keras\n",
        "from keras import preprocessing\n",
        "from keras.preprocessing import image\n",
        "from keras.preprocessing.image import load_img\n",
        "from keras import models\n",
        "from keras.models import model_from_json\n",
        "from keras.preprocessing.text import Tokenizer\n",
        "from keras.preprocessing.sequence import pad_sequences\n",
        "from keras.layers import Dense, Input, LSTM, Embedding, Dropout, Activation, Bidirectional, GlobalMaxPool1D\n",
        "from keras.layers import Conv2D, MaxPooling2D, GlobalAveragePooling2D\n",
        "from keras.models import Model\n",
        "from keras.models import Sequential\n",
        "from keras.callbacks import ModelCheckpoint\n",
        "from keras import initializers, regularizers, constraints, optimizers, layers\n",
        "from keras.utils.data_utils import get_file\n",
        "from keras.preprocessing.image import img_to_array\n",
        "from keras.utils.np_utils import to_categorical\n",
        "from keras.applications.vgg16 import preprocess_input\n",
        "\n",
        "import matplotlib\n",
        "import matplotlib.pyplot as plt\n",
        "import matplotlib.image as mpimg\n",
        "\n",
        "import skimage\n",
        "\n",
        "import scipy\n",
        "from scipy import ndimage, misc\n",
        "\n",
        "from PIL import Image\n",
        "\n",
        "import glob\n",
        "\n",
        "import sklearn\n",
        "from sklearn.metrics import confusion_matrix\n",
        "\n",
        "import imutils\n",
        "import torch\n",
        "\n",
        "from imblearn.under_sampling import NearMiss\n",
        "from numpy import genfromtxt\n",
        "import os\n",
        "from sklearn.utils import shuffle\n",
        "from matplotlib import cm"
      ]
    },
    {
      "cell_type": "code",
      "execution_count": null,
      "metadata": {
        "colab": {
          "base_uri": "https://localhost:8080/"
        },
        "id": "a0XTsySOtg-H",
        "outputId": "7a79a441-4e5d-4131-99bf-0274383d061b"
      },
      "outputs": [
        {
          "data": {
            "text/plain": [
              "1"
            ]
          },
          "execution_count": 3,
          "metadata": {},
          "output_type": "execute_result"
        }
      ],
      "source": [
        "torch.cuda.device_count()\n",
        "torch.cuda.get_device_name(0)"
      ]
    },
    {
      "cell_type": "code",
      "execution_count": null,
      "metadata": {
        "colab": {
          "base_uri": "https://localhost:8080/"
        },
        "id": "FeZ7Cnd-f-qb",
        "outputId": "60288441-987f-4ea7-ca29-3fc92bdd4aef"
      },
      "outputs": [
        {
          "name": "stdout",
          "output_type": "stream",
          "text": [
            "2.8.0\n"
          ]
        }
      ],
      "source": [
        "tf.compat.v2\n",
        "print(tf.__version__)"
      ]
    },
    {
      "cell_type": "code",
      "execution_count": null,
      "metadata": {
        "colab": {
          "base_uri": "https://localhost:8080/"
        },
        "id": "o2N8Vc4RKzcR",
        "outputId": "340dd7b7-88f7-43de-fe84-ed8f76ec4d77"
      },
      "outputs": [
        {
          "name": "stdout",
          "output_type": "stream",
          "text": [
            "Mounted at /content/drive\n"
          ]
        }
      ],
      "source": [
        "from google.colab import drive\n",
        "drive.mount('/content/drive', force_remount=True)"
      ]
    },
    {
      "cell_type": "markdown",
      "metadata": {
        "id": "TK2csVkLp_9Q"
      },
      "source": [
        "## Two Classes"
      ]
    },
    {
      "cell_type": "code",
      "execution_count": null,
      "metadata": {
        "id": "nc4elEoyqH3f"
      },
      "outputs": [],
      "source": [
        "new_root_dir_exp = '/content/drive/MyDrive/Colab Notebooks/New_DatasetExp'"
      ]
    },
    {
      "cell_type": "code",
      "execution_count": null,
      "metadata": {
        "id": "2FkaTketqH3h"
      },
      "outputs": [],
      "source": [
        "def preprocessing(path, path_mu1, path_mu5):\n",
        " imgs_array = []\n",
        " label_array = []\n",
        " cartelle = [j for j in sorted(os.listdir(path))]\n",
        "\n",
        " for folder in cartelle:\n",
        "\n",
        "\n",
        "   if folder.startswith('eco10-20%'):\n",
        "     immagini_mu1 = [i for i in sorted(os.listdir(path_mu1))]\n",
        "     for image in immagini_mu1:\n",
        "       images = np.load(os.path.join(path_mu1, image))\n",
        "       images = images.reshape(71,22,1)\n",
        "       label_array.append(1)\n",
        "       imgs_array.append(images) #images are added to a list\n",
        "\n",
        "   if folder.startswith('eco30'):\n",
        "     immagini_mu5 = [i for i in sorted(os.listdir(path_mu5))]\n",
        "     for image in immagini_mu5:\n",
        "       images = np.load(os.path.join(path_mu5, image))\n",
        "       images = images.reshape(71,22,1)\n",
        "       label_array.append(5)\n",
        "       imgs_array.append(images) #images are added to a list\n",
        "\n",
        "\n",
        "\n",
        " return imgs_array, label_array"
      ]
    },
    {
      "cell_type": "code",
      "execution_count": null,
      "metadata": {
        "id": "j678r-miqH3i"
      },
      "outputs": [],
      "source": [
        "from sklearn.utils import shuffle\n",
        "#path_eco10_10= '/content/drive/MyDrive/Colab Notebooks/New_DatasetExp/eco10-10%'\n",
        "#path_eco10= '/content/drive/MyDrive/Colab Notebooks/New_DatasetExp/eco10'\n",
        "path_eco10_20= '/content/drive/MyDrive/Colab Notebooks/New_DatasetExp/eco10-20%'\n",
        "path_eco30= '/content/drive/MyDrive/Colab Notebooks/New_DatasetExp/eco30'\n",
        "#preprocessing and shuffle\n",
        "newarray_3, newlabel_3 = preprocessing(new_root_dir_exp,  path_eco10_20, path_eco30)\n",
        "new_array_3, new_label_3 = shuffle(newarray_3,newlabel_3, random_state=24) #Random state allows to obtain the same shuffle over time"
      ]
    },
    {
      "cell_type": "code",
      "execution_count": null,
      "metadata": {
        "colab": {
          "base_uri": "https://localhost:8080/",
          "height": 299
        },
        "id": "c7MWDsGI-C_Z",
        "outputId": "43eaf793-da04-4f06-98e4-241fa4f0a8d9"
      },
      "outputs": [
        {
          "data": {
            "text/plain": [
              "Text(0.5, 0, '5')"
            ]
          },
          "execution_count": 11,
          "metadata": {},
          "output_type": "execute_result"
        },
        {
          "data": {
            "image/png": "[encoded data removed]",
            "text/plain": [
              "<Figure size 432x288 with 2 Axes>"
            ]
          },
          "metadata": {
            "needs_background": "light"
          },
          "output_type": "display_data"
        }
      ],
      "source": [
        "plt.subplot(121)\n",
        "img=np.reshape(newarray_3[1], (71, 22))\n",
        "plt.imshow(img)\n",
        "plt.xlabel(newlabel_3[1])\n",
        "\n",
        "plt.subplot(122)\n",
        "img=np.reshape(newarray_3[103], (71, 22))\n",
        "plt.imshow(img)\n",
        "plt.xlabel(newlabel_3[103])\n"
      ]
    },
    {
      "cell_type": "code",
      "execution_count": null,
      "metadata": {
        "colab": {
          "base_uri": "https://localhost:8080/",
          "height": 1000
        },
        "id": "Jx6NC58f47DQ",
        "outputId": "bc850b28-af04-4d07-a0d8-fb5255c07b4a"
      },
      "outputs": [
        {
          "data": {
            "image/png": "[encoded data removed]",
            "text/plain": [
              "<Figure size 432x288 with 1 Axes>"
            ]
          },
          "metadata": {},
          "output_type": "display_data"
        },
        {
          "data": {
            "image/png": "[encoded data removed]",
            "text/plain": [
              "<Figure size 432x288 with 1 Axes>"
            ]
          },
          "metadata": {},
          "output_type": "display_data"
        },
        {
          "data": {
            "image/png": "[encoded data removed]",
            "text/plain": [
              "<Figure size 432x288 with 1 Axes>"
            ]
          },
          "metadata": {},
          "output_type": "display_data"
        },
        {
          "data": {
            "image/png": "[encoded data removed]",
            "text/plain": [
              "<Figure size 432x288 with 1 Axes>"
            ]
          },
          "metadata": {},
          "output_type": "display_data"
        },
        {
          "data": {
            "image/png": "[encoded data removed]",
            "text/plain": [
              "<Figure size 432x288 with 1 Axes>"
            ]
          },
          "metadata": {},
          "output_type": "display_data"
        }
      ],
      "source": [
        "for i, image in enumerate(newarray_3):\n",
        "  if i<5:\n",
        "    plt.figure()\n",
        "    image = image.transpose((1, 2, 0))\n",
        "    image=np.reshape(image, (71,22))\n",
        "    plt.imshow(image)\n"
      ]
    },
    {
      "cell_type": "code",
      "execution_count": null,
      "metadata": {
        "id": "EWgMmLJYqH3i"
      },
      "outputs": [],
      "source": [
        "from sklearn.model_selection import train_test_split\n",
        "\n",
        "#split in dataset in train-test\n",
        "X_train_3, X_test_3, y_train_3, y_test_3 = train_test_split(new_array_3,new_label_3, test_size=0.30, stratify=new_label_3, random_state=42)\n",
        "\n",
        "#split train in train-valid\n",
        "Xtrain_3, Xvalid_3, ytrain_3, yvalid_3 = train_test_split(X_train_3,y_train_3, test_size=0.30, stratify=y_train_3, random_state=42)"
      ]
    },
    {
      "cell_type": "code",
      "execution_count": null,
      "metadata": {
        "colab": {
          "base_uri": "https://localhost:8080/"
        },
        "id": "-N8AItTAqH3j",
        "outputId": "eae36f76-7e73-4093-8329-e8cb70fcf996"
      },
      "outputs": [
        {
          "name": "stdout",
          "output_type": "stream",
          "text": [
            "Dataset Split:\n",
            "Training : 50\n",
            "Validation : 22\n",
            "Testing : 32\n"
          ]
        }
      ],
      "source": [
        "print(\"Dataset Split:\")\n",
        "print(f\"Training : {len(Xtrain_3)}\")\n",
        "print(f\"Validation : {len(Xvalid_3)}\")\n",
        "print(f\"Testing : {len(X_test_3)}\")"
      ]
    },
    {
      "cell_type": "code",
      "execution_count": null,
      "metadata": {
        "id": "gZcRroljqH3j"
      },
      "outputs": [],
      "source": [
        "from sklearn.preprocessing import OrdinalEncoder\n",
        "Xtrain_3 = np.asarray(Xtrain_3)\n",
        "ytrain_3 = np.asarray(ytrain_3)\n",
        "ytrain_3 = ytrain_3.reshape(-1, 1)\n",
        "X_test_3 = np.asarray(X_test_3)\n",
        "y_test_3 = np.asarray(y_test_3)\n",
        "y_test_3 = y_test_3.reshape(-1, 1)\n",
        "yvalid_3 = np.asarray(yvalid_3)\n",
        "yvalid_3 = yvalid_3.reshape(-1, 1)\n",
        "Xvalid_3 = np.asarray(Xvalid_3)\n",
        "\n",
        "encoder = OrdinalEncoder()\n",
        "ytrain_3 = encoder.fit_transform(ytrain_3)\n",
        "\n",
        "yvalid_3 = encoder.fit_transform(yvalid_3)\n",
        "\n",
        "y_test_3 = encoder.fit_transform(y_test_3)\n"
      ]
    },
    {
      "cell_type": "markdown",
      "metadata": {
        "id": "qEN_m-0_qH3j"
      },
      "source": [
        "# **Data Augmentation**"
      ]
    },
    {
      "cell_type": "code",
      "execution_count": null,
      "metadata": {
        "id": "FA5V8sVuqH3j"
      },
      "outputs": [],
      "source": [
        "#This is just an example of data augmentation: there are so many functions that you can use!\n",
        "import tensorflow as tf\n",
        "\n",
        "def flip_axis(x, axis):\n",
        "    cp = np.copy(x)\n",
        "    cp = np.asarray(cp).swapaxes(axis, 0)\n",
        "    cp = cp[::-1, ...]\n",
        "    cp = cp.swapaxes(0, axis)\n",
        "    return cp\n",
        "\n",
        "\n",
        "def augment_data(dataset, dataset_labels, augementation_factor=2, use_flip_axis=True, use_random_rotation=True, use_random_shear=True, use_random_shift=True, use_random_brightness= True):\n",
        "    augmented_image = []\n",
        "    augmented_image_labels = []\n",
        "\n",
        "    for num in range (0, dataset.shape[0]):\n",
        "\t\t\t# original image:\n",
        "       augmented_image.append(dataset[num])\n",
        "       augmented_image_labels.append(dataset_labels[num])\n",
        "\n",
        "       for i in range(0, augementation_factor):\n",
        "\n",
        "            # flipping\n",
        "            if use_flip_axis:\n",
        "                augmented_image.append(flip_axis(dataset[num],1))\n",
        "                augmented_image_labels.append(dataset_labels[num])\n",
        "\n",
        "            #random rotation\n",
        "            #if use_random_rotation:\n",
        "               # augmented_image.append(tf.keras.preprocessing.image.random_rotation(dataset[num], 40, row_axis=1, col_axis=2, channel_axis=0, fill_mode='nearest'))\n",
        "                #augmented_image_labels.append(dataset_labels[num])\n",
        "            if use_random_rotation:\n",
        "                augmented_image.append(tf.keras.preprocessing.image.random_rotation(dataset[num], 150, row_axis=1, col_axis=2, channel_axis=0, fill_mode='nearest'))\n",
        "                augmented_image_labels.append(dataset_labels[num])\n",
        "            #random spatial shear\n",
        "            if use_random_shear:\n",
        "                augmented_image.append(tf.keras.preprocessing.image.random_shear(dataset[num], 0.2, row_axis=0, col_axis=1, channel_axis=0))\n",
        "                augmented_image_labels.append(dataset_labels[num])\n",
        "            #random spatial shift\n",
        "            if use_random_shift:\n",
        "                augmented_image.append(tf.keras.preprocessing.image.random_shift(dataset[num], 0.2, 0.2, row_axis=1, col_axis=2, channel_axis=0, fill_mode='nearest'))\n",
        "                augmented_image_labels.append(dataset_labels[num])\n",
        "            if use_random_brightness:\n",
        "               augmented_image.append(tf.keras.preprocessing.image.random_brightness(dataset[num], [0.2, 0.5]))\n",
        "               augmented_image_labels.append(dataset_labels[num])\n",
        "\n",
        "    return np.array(augmented_image), np.array(augmented_image_labels)\n"
      ]
    },
    {
      "cell_type": "code",
      "execution_count": null,
      "metadata": {
        "id": "2yfvJspNqH3j"
      },
      "outputs": [],
      "source": [
        "#apply data augmentation\n",
        "img_augmented_3, label_augmented_3 = augment_data(Xtrain_3, ytrain_3, augementation_factor=2, use_flip_axis=True,\n",
        "                                                      use_random_rotation=True, use_random_shear=True, use_random_shift=True, use_random_brightness= True)"
      ]
    },
    {
      "cell_type": "code",
      "execution_count": null,
      "metadata": {
        "colab": {
          "base_uri": "https://localhost:8080/"
        },
        "id": "WUO4Es-EqH3j",
        "outputId": "07661ba8-1149-4e0f-9fcc-b7287832ec49"
      },
      "outputs": [
        {
          "name": "stdout",
          "output_type": "stream",
          "text": [
            "(550, 71, 22, 1)\n",
            "(50, 71, 22, 1)\n"
          ]
        }
      ],
      "source": [
        "print(img_augmented_3.shape)\n",
        "print(Xtrain_3.shape)"
      ]
    },
    {
      "cell_type": "code",
      "execution_count": null,
      "metadata": {
        "colab": {
          "base_uri": "https://localhost:8080/",
          "height": 303
        },
        "id": "zCXZDL8gqH3k",
        "outputId": "8b828eca-d197-407d-fb54-65fe4202f558"
      },
      "outputs": [
        {
          "name": "stdout",
          "output_type": "stream",
          "text": [
            "[0.]\n",
            "[0.]\n"
          ]
        },
        {
          "data": {
            "image/png": "[encoded data removed]",
            "text/plain": [
              "<Figure size 432x288 with 2 Axes>"
            ]
          },
          "metadata": {
            "needs_background": "light"
          },
          "output_type": "display_data"
        }
      ],
      "source": [
        "plt.subplot(121)\n",
        "img=np.reshape(img_augmented_3[34], (71, 22))\n",
        "plt.imshow(img)\n",
        "print(label_augmented_3[34])\n",
        "\n",
        "plt.subplot(122)\n",
        "img=np.reshape(img_augmented_3[35], (71, 22))\n",
        "plt.imshow(img)\n",
        "print(label_augmented_3[35])"
      ]
    },
    {
      "cell_type": "markdown",
      "metadata": {
        "id": "j2X4rueurgAo"
      },
      "source": [
        "##Model_3"
      ]
    },
    {
      "cell_type": "code",
      "execution_count": null,
      "metadata": {
        "colab": {
          "base_uri": "https://localhost:8080/"
        },
        "id": "jconQat-rgAo",
        "outputId": "79740c04-a0fd-43ed-cf63-9c7697d6cac9"
      },
      "outputs": [
        {
          "name": "stdout",
          "output_type": "stream",
          "text": [
            "Model: \"sequential_2\"\n",
            "_________________________________________________________________\n",
            " Layer (type)                Output Shape              Param #   \n",
            "=================================================================\n",
            " conv2d_3 (Conv2D)           (None, 69, 20, 64)        640       \n",
            "                                                                 \n",
            " batch_normalization_3 (Batc  (None, 69, 20, 64)       256       \n",
            " hNormalization)                                                 \n",
            "                                                                 \n",
            " max_pooling2d_3 (MaxPooling  (None, 34, 10, 64)       0         \n",
            " 2D)                                                             \n",
            "                                                                 \n",
            " flatten_2 (Flatten)         (None, 21760)             0         \n",
            "                                                                 \n",
            " dense_6 (Dense)             (None, 1024)              22283264  \n",
            "                                                                 \n",
            " dropout_4 (Dropout)         (None, 1024)              0         \n",
            "                                                                 \n",
            " dense_7 (Dense)             (None, 512)               524800    \n",
            "                                                                 \n",
            " dropout_5 (Dropout)         (None, 512)               0         \n",
            "                                                                 \n",
            " dense_8 (Dense)             (None, 2)                 1026      \n",
            "                                                                 \n",
            "=================================================================\n",
            "Total params: 22,809,986\n",
            "Trainable params: 22,809,858\n",
            "Non-trainable params: 128\n",
            "_________________________________________________________________\n"
          ]
        }
      ],
      "source": [
        "#model with 71x22 images\n",
        "from keras.layers import GaussianNoise\n",
        "def create_model_3():\n",
        "  model = models.Sequential([\n",
        "\n",
        "    layers.Conv2D(64, 3, activation='relu', input_shape=(71,22,1)),\n",
        "    layers.BatchNormalization(),\n",
        "    layers.MaxPooling2D((2, 2)),\n",
        "\n",
        "    layers.Flatten(),\n",
        "    layers.Dense(1024, activation='relu'),\n",
        "    layers.Dropout(0.5),\n",
        "    layers.Dense(512, activation='relu'),\n",
        "    layers.Dropout(0.5),\n",
        "\n",
        "    layers.Dense(2, activation='softmax'),\n",
        "  ])\n",
        "  return model\n",
        "\n",
        "# Create a basic model instance\n",
        "model_3 = create_model_3()\n",
        "\n",
        "# Show a summary of the model. Check the number of trainable parameters\n",
        "model_3.summary()"
      ]
    },
    {
      "cell_type": "code",
      "execution_count": null,
      "metadata": {
        "colab": {
          "base_uri": "https://localhost:8080/"
        },
        "id": "rTRxZR5XrgAo",
        "outputId": "d8e64614-f0bd-43cd-f3be-d1779b40f939"
      },
      "outputs": [
        {
          "name": "stdout",
          "output_type": "stream",
          "text": [
            "Epoch 1/30\n",
            "46/46 [==============================] - 2s 25ms/step - loss: 2.4918 - accuracy: 0.5291 - val_loss: 0.9514 - val_accuracy: 0.5000\n",
            "Epoch 2/30\n",
            "46/46 [==============================] - 1s 20ms/step - loss: 2.3563 - accuracy: 0.5891 - val_loss: 1.1267 - val_accuracy: 0.5000\n",
            "Epoch 3/30\n",
            "46/46 [==============================] - 1s 20ms/step - loss: 2.7832 - accuracy: 0.5964 - val_loss: 0.6895 - val_accuracy: 0.5000\n",
            "Epoch 4/30\n",
            "46/46 [==============================] - 1s 21ms/step - loss: 1.6363 - accuracy: 0.6655 - val_loss: 0.6582 - val_accuracy: 0.5909\n",
            "Epoch 5/30\n",
            "46/46 [==============================] - 1s 20ms/step - loss: 2.1816 - accuracy: 0.6655 - val_loss: 0.7217 - val_accuracy: 0.5000\n",
            "Epoch 6/30\n",
            "46/46 [==============================] - 1s 21ms/step - loss: 1.6950 - accuracy: 0.6673 - val_loss: 0.6504 - val_accuracy: 0.5000\n",
            "Epoch 7/30\n",
            "46/46 [==============================] - 1s 20ms/step - loss: 1.7897 - accuracy: 0.7055 - val_loss: 0.6318 - val_accuracy: 0.6364\n",
            "Epoch 8/30\n",
            "46/46 [==============================] - 1s 21ms/step - loss: 1.2128 - accuracy: 0.6782 - val_loss: 0.7544 - val_accuracy: 0.5000\n",
            "Epoch 9/30\n",
            "46/46 [==============================] - 1s 20ms/step - loss: 1.1328 - accuracy: 0.7345 - val_loss: 0.6597 - val_accuracy: 0.5455\n",
            "Epoch 10/30\n",
            "46/46 [==============================] - 1s 20ms/step - loss: 0.6640 - accuracy: 0.7691 - val_loss: 0.6256 - val_accuracy: 0.6818\n",
            "Epoch 11/30\n",
            "46/46 [==============================] - 1s 21ms/step - loss: 1.0013 - accuracy: 0.7836 - val_loss: 0.6626 - val_accuracy: 0.6364\n",
            "Epoch 12/30\n",
            "46/46 [==============================] - 1s 20ms/step - loss: 0.6084 - accuracy: 0.7709 - val_loss: 0.5872 - val_accuracy: 0.6364\n",
            "Epoch 13/30\n",
            "46/46 [==============================] - 1s 20ms/step - loss: 0.7586 - accuracy: 0.7836 - val_loss: 0.4697 - val_accuracy: 0.7727\n",
            "Epoch 14/30\n",
            "46/46 [==============================] - 1s 21ms/step - loss: 0.6912 - accuracy: 0.8073 - val_loss: 0.3908 - val_accuracy: 0.8182\n",
            "Epoch 15/30\n",
            "46/46 [==============================] - 1s 21ms/step - loss: 0.8319 - accuracy: 0.8036 - val_loss: 0.5108 - val_accuracy: 0.7727\n",
            "Epoch 16/30\n",
            "46/46 [==============================] - 1s 20ms/step - loss: 0.6381 - accuracy: 0.7909 - val_loss: 0.4476 - val_accuracy: 0.8182\n",
            "Epoch 17/30\n",
            "46/46 [==============================] - 1s 20ms/step - loss: 0.6564 - accuracy: 0.8364 - val_loss: 0.5275 - val_accuracy: 0.8182\n",
            "Epoch 18/30\n",
            "46/46 [==============================] - 1s 21ms/step - loss: 0.7234 - accuracy: 0.8400 - val_loss: 0.4750 - val_accuracy: 0.7273\n",
            "Epoch 19/30\n",
            "46/46 [==============================] - 1s 21ms/step - loss: 0.4078 - accuracy: 0.8400 - val_loss: 0.4245 - val_accuracy: 0.8182\n",
            "Epoch 20/30\n",
            "46/46 [==============================] - 1s 20ms/step - loss: 0.4764 - accuracy: 0.8418 - val_loss: 0.5270 - val_accuracy: 0.7727\n",
            "Epoch 21/30\n",
            "46/46 [==============================] - 1s 21ms/step - loss: 0.5047 - accuracy: 0.8182 - val_loss: 0.4748 - val_accuracy: 0.8182\n",
            "Epoch 22/30\n",
            "46/46 [==============================] - 1s 21ms/step - loss: 0.5588 - accuracy: 0.8509 - val_loss: 0.4838 - val_accuracy: 0.8636\n",
            "Epoch 23/30\n",
            "46/46 [==============================] - 1s 20ms/step - loss: 0.4615 - accuracy: 0.8745 - val_loss: 0.4765 - val_accuracy: 0.7727\n",
            "Epoch 24/30\n",
            "46/46 [==============================] - 1s 20ms/step - loss: 0.4174 - accuracy: 0.8545 - val_loss: 0.3565 - val_accuracy: 0.8182\n",
            "Epoch 25/30\n",
            "46/46 [==============================] - 1s 20ms/step - loss: 0.3090 - accuracy: 0.8655 - val_loss: 0.5983 - val_accuracy: 0.7727\n",
            "Epoch 26/30\n",
            "46/46 [==============================] - 1s 21ms/step - loss: 0.3539 - accuracy: 0.8891 - val_loss: 0.4441 - val_accuracy: 0.8182\n",
            "Epoch 27/30\n",
            "46/46 [==============================] - 1s 20ms/step - loss: 0.4071 - accuracy: 0.8800 - val_loss: 0.5173 - val_accuracy: 0.8182\n",
            "Epoch 28/30\n",
            "46/46 [==============================] - 1s 21ms/step - loss: 0.3536 - accuracy: 0.8964 - val_loss: 0.5889 - val_accuracy: 0.7727\n",
            "Epoch 29/30\n",
            "46/46 [==============================] - 1s 20ms/step - loss: 0.3814 - accuracy: 0.8909 - val_loss: 0.5209 - val_accuracy: 0.7727\n",
            "Epoch 30/30\n",
            "46/46 [==============================] - 1s 20ms/step - loss: 0.1801 - accuracy: 0.9345 - val_loss: 0.6228 - val_accuracy: 0.8182\n"
          ]
        }
      ],
      "source": [
        "# This function keeps the initial learning rate for the first ten epochs\n",
        "# and decreases it exponentially after that.\n",
        "\n",
        "def scheduler(num_epoch, lr):\n",
        "  if num_epoch < 5:\n",
        "    return lr\n",
        "  else:\n",
        "    return lr * tf.math.exp(-0.1)\n",
        "num_epochs = 30\n",
        "\n",
        "callback = tf.keras.callbacks.LearningRateScheduler(scheduler)\n",
        "\n",
        "model_3.compile(optimizer=tf.keras.optimizers.Adam(learning_rate=0.0001),\n",
        "              loss=tf.keras.losses.SparseCategoricalCrossentropy(from_logits=False),\n",
        "              metrics=['accuracy'])\n",
        "\n",
        "history = model_3.fit(img_augmented_3, label_augmented_3, epochs=num_epochs, batch_size=12, validation_data=(Xvalid_3, yvalid_3), verbose=1)\n"
      ]
    },
    {
      "cell_type": "code",
      "execution_count": null,
      "metadata": {
        "colab": {
          "base_uri": "https://localhost:8080/"
        },
        "id": "fxDOg9sFQV2Q",
        "outputId": "7c205b7a-8e03-4aad-9a2d-fe76ae14758f"
      },
      "outputs": [
        {
          "name": "stdout",
          "output_type": "stream",
          "text": [
            "(32, 71, 22)\n"
          ]
        }
      ],
      "source": [
        "X_test_3_a = np.squeeze(X_test_3, axis=3)\n",
        "print(X_test_3_a.shape)"
      ]
    },
    {
      "cell_type": "code",
      "execution_count": null,
      "metadata": {
        "colab": {
          "base_uri": "https://localhost:8080/",
          "height": 481
        },
        "id": "T5T5Hen1rgAp",
        "outputId": "6c50f8a2-c16e-4ffe-a2e0-8d2f6a670c86"
      },
      "outputs": [
        {
          "name": "stdout",
          "output_type": "stream",
          "text": [
            "              precision    recall  f1-score   support\n",
            "\n",
            "         0.0       0.87      0.81      0.84        16\n",
            "         1.0       0.82      0.88      0.85        16\n",
            "\n",
            "    accuracy                           0.84        32\n",
            "   macro avg       0.85      0.84      0.84        32\n",
            "weighted avg       0.85      0.84      0.84        32\n",
            "\n",
            "accuracy: 0.84375\n",
            "0\n",
            "1\n"
          ]
        },
        {
          "data": {
            "image/png": "[encoded data removed]",
            "text/plain": [
              "<Figure size 432x288 with 2 Axes>"
            ]
          },
          "metadata": {
            "needs_background": "light"
          },
          "output_type": "display_data"
        }
      ],
      "source": [
        "#results:\n",
        "import sklearn\n",
        "from sklearn.metrics import accuracy_score\n",
        "from sklearn.metrics import confusion_matrix\n",
        "#y_pred = model.predict_classes(X_test)\n",
        "y_pred_3= np.argmax(model_3.predict(X_test_3),1)\n",
        "\n",
        "\n",
        "print(sklearn.metrics.classification_report(y_test_3, y_pred_3))\n",
        "a = accuracy_score(y_test_3, y_pred_3)\n",
        "print(\"accuracy:\",a)\n",
        "plt.subplot(121)\n",
        "img=np.reshape(X_test_3[20], (71, 22))\n",
        "plt.imshow(img)\n",
        "\n",
        "print(y_pred_3[20])\n",
        "plt.subplot(122)\n",
        "img_1=np.reshape(X_test_3[4], (71, 22))\n",
        "plt.imshow(img_1)\n",
        "print(y_pred_3[4])"
      ]
    },
    {
      "cell_type": "code",
      "execution_count": null,
      "metadata": {
        "id": "o9zZyoJ0rgAp"
      },
      "outputs": [],
      "source": [
        "y_predicted_3 = model_3.predict(X_test_3_a) #predict will return the scores of the model and predict_class will return the class of your predictions. Although it seems similar there are some differences:\n",
        "pred_class_3 = np.argmax(y_predicted_3, axis=1)  #argmax tra le colonne (axis =1)\n"
      ]
    },
    {
      "cell_type": "code",
      "execution_count": null,
      "metadata": {
        "colab": {
          "base_uri": "https://localhost:8080/",
          "height": 287
        },
        "id": "usF8vrVOrgAp",
        "outputId": "4c96f9c9-f351-4537-f601-1b137adaead7"
      },
      "outputs": [
        {
          "data": {
            "text/plain": [
              "<matplotlib.axes._subplots.AxesSubplot at 0x7faf4303f710>"
            ]
          },
          "execution_count": 116,
          "metadata": {},
          "output_type": "execute_result"
        },
        {
          "data": {
            "image/png": "[encoded data removed]",
            "text/plain": [
              "<Figure size 432x288 with 2 Axes>"
            ]
          },
          "metadata": {
            "needs_background": "light"
          },
          "output_type": "display_data"
        }
      ],
      "source": [
        "from sklearn.metrics import confusion_matrix\n",
        "import seaborn as sns\n",
        "conf = confusion_matrix(y_test_3, pred_class_3)\n",
        "#print(conf)\n",
        "sns.heatmap(conf, annot=True, fmt=\"d\")"
      ]
    },
    {
      "cell_type": "code",
      "execution_count": null,
      "metadata": {
        "colab": {
          "base_uri": "https://localhost:8080/",
          "height": 283
        },
        "id": "cC50ln16rgAp",
        "outputId": "7bf59cc3-ffcd-4330-bd72-8977fcaf4034"
      },
      "outputs": [
        {
          "data": {
            "text/plain": [
              "<matplotlib.axes._subplots.AxesSubplot at 0x7faf4304e690>"
            ]
          },
          "execution_count": 117,
          "metadata": {},
          "output_type": "execute_result"
        },
        {
          "data": {
            "image/png": "[encoded data removed]",
            "text/plain": [
              "<Figure size 432x288 with 2 Axes>"
            ]
          },
          "metadata": {
            "needs_background": "light"
          },
          "output_type": "display_data"
        }
      ],
      "source": [
        "cm = conf.astype('float') / conf.sum(axis=1)\n",
        "sns.heatmap(cm, annot=True,\n",
        "            fmt='.2%')"
      ]
    },
    {
      "cell_type": "code",
      "execution_count": null,
      "metadata": {
        "id": "-z79I5-X2Ei6"
      },
      "outputs": [],
      "source": [
        "from sklearn.metrics import roc_curve\n",
        "\n",
        "fpr_model_2vs2_exp, tpr_model_2vs2_exp, thresholds_model_2vs2_exp = roc_curve(y_test_3, y_predicted_3[:,1])"
      ]
    },
    {
      "cell_type": "code",
      "execution_count": null,
      "metadata": {
        "id": "kQZNNDdv2Ei7"
      },
      "outputs": [],
      "source": [
        "from sklearn.metrics import auc\n",
        "auc_model_2vs2_exp = auc(fpr_model_2vs2_exp, tpr_model_2vs2_exp)"
      ]
    },
    {
      "cell_type": "code",
      "execution_count": null,
      "metadata": {
        "colab": {
          "base_uri": "https://localhost:8080/",
          "height": 279
        },
        "id": "kZaQSwUS2Ei8",
        "outputId": "c700d1a3-507c-4389-a627-a3eae6ba8dda"
      },
      "outputs": [
        {
          "data": {
            "image/png": "[encoded data removed]",
            "text/plain": [
              "<Figure size 432x288 with 1 Axes>"
            ]
          },
          "metadata": {
            "needs_background": "light"
          },
          "output_type": "display_data"
        }
      ],
      "source": [
        "plt.figure(1)\n",
        "plt.plot([0, 1], [0, 1], 'k--', label='Chance')\n",
        "plt.plot(fpr_model_2vs2_exp, tpr_model_2vs2_exp, color='deeppink', label='CNN (area = {:.3f})'.format(auc_model_2vs2_exp))\n",
        "\n",
        "plt.xlabel('False positive rate')\n",
        "plt.ylabel('True positive rate')\n",
        "\n",
        "plt.legend(loc='best')\n",
        "plt.show()\n"
      ]
    },
    {
      "cell_type": "markdown",
      "metadata": {
        "id": "ATcQ1Z0fuNQn"
      },
      "source": [
        "## Five Classes"
      ]
    },
    {
      "cell_type": "markdown",
      "metadata": {
        "id": "03epGO4l_9f3"
      },
      "source": [
        "mu1"
      ]
    },
    {
      "cell_type": "code",
      "execution_count": null,
      "metadata": {
        "id": "CoywuxDA_9f4"
      },
      "outputs": [],
      "source": [
        "import os, glob\n",
        "from collections import defaultdict\n",
        "\n",
        "dirs = ['/content/drive/MyDrive/Colab Notebooks/Simulated_Dataset/mu1/real', '/content/drive/MyDrive/Colab Notebooks/Simulated_Dataset/mu1/imag']\n",
        "file_pattrn = r'*.csv'\n",
        "unique_files = defaultdict(list)\n",
        "\n",
        "for d in dirs:\n",
        "  for i in glob.iglob(os.path.join(d, file_pattrn)):\n",
        "     unique_files[os.path.basename(i)].append(i)"
      ]
    },
    {
      "cell_type": "code",
      "execution_count": null,
      "metadata": {
        "colab": {
          "base_uri": "https://localhost:8080/"
        },
        "id": "RCOfpYf6_9f4",
        "outputId": "6746f59b-d8db-4d6e-b17e-282d8ca65c5d"
      },
      "outputs": [
        {
          "name": "stdout",
          "output_type": "stream",
          "text": [
            "(71, 22)\n"
          ]
        }
      ],
      "source": [
        "destination = '/content/drive/MyDrive/Colab Notebooks/New_Dataset/mu1'\n",
        "for unique_filename, copies in unique_files.items():\n",
        "  arr= np.stack([genfromtxt(copy, delimiter=',') for copy in copies],axis=0)\n",
        "  np.save(os.path.join(destination, unique_filename), arr, allow_pickle=True)\n",
        "\n",
        "print(arr.shape)"
      ]
    },
    {
      "cell_type": "markdown",
      "metadata": {
        "id": "P5wuIYNg_9f4"
      },
      "source": [
        "mu2"
      ]
    },
    {
      "cell_type": "code",
      "execution_count": null,
      "metadata": {
        "id": "yRx4rSDe_9f4"
      },
      "outputs": [],
      "source": [
        "dirs = ['/content/drive/MyDrive/Colab Notebooks/Simulated_Dataset/mu2/real', '/content/drive/MyDrive/Colab Notebooks/Simulated_Dataset/mu2/imag']\n",
        "file_pattrn = r'*.csv'\n",
        "unique_files = defaultdict(list)\n",
        "\n",
        "for d in dirs:\n",
        "  for i in glob.iglob(os.path.join(d, file_pattrn)):\n",
        "     unique_files[os.path.basename(i)].append(i)"
      ]
    },
    {
      "cell_type": "code",
      "execution_count": null,
      "metadata": {
        "colab": {
          "base_uri": "https://localhost:8080/"
        },
        "id": "xqrWkwm6_9f4",
        "outputId": "5227c160-6ee9-44ba-d820-99ab9f9576f9"
      },
      "outputs": [
        {
          "name": "stdout",
          "output_type": "stream",
          "text": [
            "(71, 22)\n"
          ]
        }
      ],
      "source": [
        "destination = '/content/drive/MyDrive/Colab Notebooks/New_Dataset/mu1'\n",
        "for unique_filename, copies in unique_files.items():\n",
        "  arr= np.stack([genfromtxt(copy, delimiter=',') for copy in copies],axis=0)\n",
        "  np.save(os.path.join(destination, unique_filename), arr, allow_pickle=True)\n",
        "\n",
        "print(arr.shape)"
      ]
    },
    {
      "cell_type": "markdown",
      "metadata": {
        "id": "6HhHOLUd_9f5"
      },
      "source": [
        "mu3"
      ]
    },
    {
      "cell_type": "code",
      "execution_count": null,
      "metadata": {
        "id": "hnwBogVD_9f5"
      },
      "outputs": [],
      "source": [
        "dirs = ['/content/drive/MyDrive/Colab Notebooks/Simulated_Dataset/mu3/real', '/content/drive/MyDrive/Colab Notebooks/Simulated_Dataset/mu3/imag']\n",
        "file_pattrn = r'*.csv'\n",
        "unique_files = defaultdict(list)\n",
        "\n",
        "for d in dirs:\n",
        "  for i in glob.iglob(os.path.join(d, file_pattrn)):\n",
        "     unique_files[os.path.basename(i)].append(i)"
      ]
    },
    {
      "cell_type": "code",
      "execution_count": null,
      "metadata": {
        "colab": {
          "base_uri": "https://localhost:8080/"
        },
        "id": "ECLLuNIg_9f5",
        "outputId": "2b793141-1cb3-4d04-a66c-31667dae6bbd"
      },
      "outputs": [
        {
          "name": "stdout",
          "output_type": "stream",
          "text": [
            "(71, 22)\n"
          ]
        }
      ],
      "source": [
        "destination = '/content/drive/MyDrive/Colab Notebooks/New_Dataset/mu1'\n",
        "for unique_filename, copies in unique_files.items():\n",
        "  arr= np.stack([genfromtxt(copy, delimiter=',') for copy in copies],axis=0)\n",
        "  np.save(os.path.join(destination, unique_filename), arr, allow_pickle=True)\n",
        "\n",
        "print(arr.shape)"
      ]
    },
    {
      "cell_type": "markdown",
      "metadata": {
        "id": "0VbcKEJw_9f5"
      },
      "source": [
        "mu4"
      ]
    },
    {
      "cell_type": "code",
      "execution_count": null,
      "metadata": {
        "id": "wZSCSlGg_9f5"
      },
      "outputs": [],
      "source": [
        "dirs = ['/content/drive/MyDrive/Colab Notebooks/Simulated_Dataset/mu4/real', '/content/drive/MyDrive/Colab Notebooks/Simulated_Dataset/mu4/imag']\n",
        "file_pattrn = r'*.csv'\n",
        "unique_files = defaultdict(list)\n",
        "\n",
        "for d in dirs:\n",
        "  for i in glob.iglob(os.path.join(d, file_pattrn)):\n",
        "     unique_files[os.path.basename(i)].append(i)"
      ]
    },
    {
      "cell_type": "code",
      "execution_count": null,
      "metadata": {
        "colab": {
          "background_save": true
        },
        "id": "ioQDwEsE_9f5",
        "outputId": "ccb92551-78b3-4c1b-fe01-2f9adf32f4e4"
      },
      "outputs": [
        {
          "name": "stdout",
          "output_type": "stream",
          "text": [
            "(71, 22)\n"
          ]
        }
      ],
      "source": [
        "destination = '/content/drive/MyDrive/Colab Notebooks/New_Dataset/mu1'\n",
        "for unique_filename, copies in unique_files.items():\n",
        "  arr= np.stack([genfromtxt(copy, delimiter=',') for copy in copies],axis=0)\n",
        "  np.save(os.path.join(destination, unique_filename), arr, allow_pickle=True)\n",
        "\n",
        "print(arr.shape)"
      ]
    },
    {
      "cell_type": "markdown",
      "metadata": {
        "id": "uoal2O_g_9f6"
      },
      "source": [
        "mu5"
      ]
    },
    {
      "cell_type": "code",
      "execution_count": null,
      "metadata": {
        "colab": {
          "background_save": true
        },
        "id": "jxvInMOo_9f6"
      },
      "outputs": [],
      "source": [
        "dirs = ['/content/drive/MyDrive/Colab Notebooks/Simulated_Dataset/mu5/real', '/content/drive/MyDrive/Colab Notebooks/Simulated_Dataset/mu5/imag']\n",
        "file_pattrn = r'*.csv'\n",
        "unique_files = defaultdict(list)\n",
        "\n",
        "for d in dirs:\n",
        "  for i in glob.iglob(os.path.join(d, file_pattrn)):\n",
        "     unique_files[os.path.basename(i)].append(i)"
      ]
    },
    {
      "cell_type": "code",
      "execution_count": null,
      "metadata": {
        "colab": {
          "background_save": true
        },
        "id": "yU7TFyBj_9f6",
        "outputId": "9cbe8bbf-cfcd-4bcd-ef08-6ad7ab7a04b0"
      },
      "outputs": [
        {
          "name": "stdout",
          "output_type": "stream",
          "text": [
            "(71, 22)\n"
          ]
        }
      ],
      "source": [
        "destination = '/content/drive/MyDrive/Colab Notebooks/New_Dataset/mu1'\n",
        "for unique_filename, copies in unique_files.items():\n",
        "  arr= np.stack([genfromtxt(copy, delimiter=',') for copy in copies],axis=0)\n",
        "  np.save(os.path.join(destination, unique_filename), arr, allow_pickle=True)\n",
        "\n",
        "print(arr.shape)"
      ]
    },
    {
      "cell_type": "code",
      "execution_count": null,
      "metadata": {
        "id": "ArSFPnpuuNQo"
      },
      "outputs": [],
      "source": [
        "new_root_dir_exp = '/content/drive/MyDrive/Colab Notebooks/New_DatasetExp'"
      ]
    },
    {
      "cell_type": "code",
      "execution_count": null,
      "metadata": {
        "id": "xoMcy2q1ueOl"
      },
      "outputs": [],
      "source": [
        "def preprocessing(path,path_mu1, path_mu2, path_mu3,path_mu5):\n",
        " imgs_array = []\n",
        " label_array = []\n",
        " cartelle = [j for j in sorted(os.listdir(path))]\n",
        "\n",
        " for folder in cartelle:\n",
        "   if folder.startswith('eco10-20%'):\n",
        "     immagini_mu1 = [i for i in sorted(os.listdir(path_mu1))]\n",
        "     for image in immagini_mu1:\n",
        "       images = np.load(os.path.join(path_mu1, image))\n",
        "       images = images.reshape(71,22,1)\n",
        "       #x = img_to_array(images)\n",
        "       label_array.append(1)\n",
        "       imgs_array.append(images) #images are added to a list\n",
        "\n",
        "   if folder.startswith('eco10-10%'):\n",
        "     immagini_mu2 = [i for i in sorted(os.listdir(path_mu2))]\n",
        "     for image in immagini_mu2:\n",
        "       images = np.load(os.path.join(path_mu2, image))\n",
        "       images = images.reshape(71,22,1)\n",
        "       label_array.append(2)\n",
        "       imgs_array.append(images) #images are added to a list\n",
        "\n",
        "   if folder.startswith('eco10'):\n",
        "     immagini_mu3 = [i for i in sorted(os.listdir(path_mu3))]\n",
        "     for image in immagini_mu3:\n",
        "       images = np.load(os.path.join(path_mu3, image))\n",
        "       images = images.reshape(71,22,1)\n",
        "       label_array.append(3)\n",
        "       imgs_array.append(images) #images are added to a list\n",
        "\n",
        "\n",
        "   if folder.startswith('eco30'):\n",
        "     immagini_mu5 = [i for i in sorted(os.listdir(path_mu5))]\n",
        "     for image in immagini_mu5:\n",
        "       images = np.load(os.path.join(path_mu5, image))\n",
        "       images = images.reshape(71,22,1)\n",
        "       label_array.append(5)\n",
        "       imgs_array.append(images) #images are added to a list\n",
        "\n",
        "\n",
        " return imgs_array, label_array"
      ]
    },
    {
      "cell_type": "code",
      "execution_count": null,
      "metadata": {
        "id": "lZ2NsMvcueOm"
      },
      "outputs": [],
      "source": [
        "from sklearn.utils import shuffle\n",
        "path_eco10_20= '/content/drive/MyDrive/Colab Notebooks/New_DatasetExp/eco10-20%'\n",
        "path_eco10_10= '/content/drive/MyDrive/Colab Notebooks/New_DatasetExp/eco10-10%'\n",
        "path_eco30= '/content/drive/MyDrive/Colab Notebooks/New_DatasetExp/eco30'\n",
        "path_eco10= '/content/drive/MyDrive/Colab Notebooks/New_DatasetExp/eco10'\n",
        "\n",
        "#preprocessing and shuffle\n",
        "new_array_4, new_label_4 = preprocessing(new_root_dir_exp, path_eco10_20, path_eco10_10, path_eco10, path_eco30)\n",
        "new_array_4, new_label_4 = shuffle(new_array_4,new_label_4, random_state=24) #Random state allows to obtain the same shuffle over time"
      ]
    },
    {
      "cell_type": "code",
      "execution_count": null,
      "metadata": {
        "colab": {
          "base_uri": "https://localhost:8080/",
          "height": 303
        },
        "id": "UhY0hMgyuNQq",
        "outputId": "6e239632-7920-4fc1-a465-6fd79276ab01"
      },
      "outputs": [
        {
          "name": "stdout",
          "output_type": "stream",
          "text": [
            "(71, 22, 1)\n",
            "3\n"
          ]
        },
        {
          "data": {
            "image/png": "[encoded data removed]",
            "text/plain": [
              "<Figure size 432x288 with 1 Axes>"
            ]
          },
          "metadata": {},
          "output_type": "display_data"
        }
      ],
      "source": [
        "print(new_array_4[10].shape)\n",
        "#print(new_label[20].shape)\n",
        "img=np.reshape(new_array_4[10], (71, 22))\n",
        "plt.imshow(img)\n",
        "print(new_label_4[10])\n"
      ]
    },
    {
      "cell_type": "code",
      "execution_count": null,
      "metadata": {
        "id": "ZzxZxR2YuNQr"
      },
      "outputs": [],
      "source": [
        "from sklearn.model_selection import train_test_split\n",
        "\n",
        "#split in dataset in train-test\n",
        "X_train_4, X_test_4, y_train_4, y_test_4 = train_test_split(new_array_4,new_label_4, test_size=0.20, stratify=new_label_4, random_state=42)\n",
        "\n",
        "#split train in train-valid\n",
        "Xtrain_4, Xvalid_4, ytrain_4, yvalid_4 = train_test_split(X_train_4,y_train_4, test_size=0.30, stratify=y_train_4, random_state=42)"
      ]
    },
    {
      "cell_type": "code",
      "execution_count": null,
      "metadata": {
        "colab": {
          "base_uri": "https://localhost:8080/"
        },
        "id": "g9tSSTEuuNQr",
        "outputId": "3043bcdf-da38-48a3-c311-7f0e6cff4d6f"
      },
      "outputs": [
        {
          "name": "stdout",
          "output_type": "stream",
          "text": [
            "Dataset Split:\n",
            "Training : 174\n",
            "Validation : 75\n",
            "Testing : 63\n"
          ]
        }
      ],
      "source": [
        "print(\"Dataset Split:\")\n",
        "print(f\"Training : {len(Xtrain_4)}\")\n",
        "print(f\"Validation : {len(Xvalid_4)}\")\n",
        "print(f\"Testing : {len(X_test_4)}\")"
      ]
    },
    {
      "cell_type": "code",
      "execution_count": null,
      "metadata": {
        "id": "NTyD9xsHuNQr"
      },
      "outputs": [],
      "source": [
        "from sklearn.preprocessing import OrdinalEncoder\n",
        "Xtrain_4 = np.asarray(Xtrain_4)\n",
        "ytrain_4 = np.asarray(ytrain_4)\n",
        "ytrain_4 = ytrain_4.reshape(-1, 1)\n",
        "X_test_4 = np.asarray(X_test_4)\n",
        "y_test_4 = np.asarray(y_test_4)\n",
        "y_test_4 = y_test_4.reshape(-1, 1)\n",
        "yvalid_4 = np.asarray(yvalid_4)\n",
        "yvalid_4 = yvalid_4.reshape(-1, 1)\n",
        "Xvalid_4 = np.asarray(Xvalid_4)\n",
        "\n",
        "encoder = OrdinalEncoder()\n",
        "ytrain_4 = encoder.fit_transform(ytrain_4)\n",
        "\n",
        "yvalid_4 = encoder.fit_transform(yvalid_4)\n",
        "\n",
        "y_test_4 = encoder.fit_transform(y_test_4)\n"
      ]
    },
    {
      "cell_type": "markdown",
      "metadata": {
        "id": "qeDGAEwguNQr"
      },
      "source": [
        "# **Data Augmentation**"
      ]
    },
    {
      "cell_type": "code",
      "execution_count": null,
      "metadata": {
        "id": "JIQjveyouNQr"
      },
      "outputs": [],
      "source": [
        "#This is just an example of data augmentation: there are so many functions that you can use!\n",
        "import tensorflow as tf\n",
        "\n",
        "def flip_axis(x, axis):\n",
        "    cp = np.copy(x)\n",
        "    cp = np.asarray(cp).swapaxes(axis, 0)\n",
        "    cp = cp[::-1, ...]\n",
        "    cp = cp.swapaxes(0, axis)\n",
        "    return cp\n",
        "\n",
        "\n",
        "def augment_data(dataset, dataset_labels, augementation_factor=1, use_flip_axis=True, use_random_rotation=True, use_random_shear=True, use_random_shift=True, use_random_brightness= True):\n",
        "    augmented_image = []\n",
        "    augmented_image_labels = []\n",
        "\n",
        "    for num in range (0, dataset.shape[0]):\n",
        "\t\t\t# original image:\n",
        "       augmented_image.append(dataset[num])\n",
        "       augmented_image_labels.append(dataset_labels[num])\n",
        "\n",
        "       for i in range(0, augementation_factor):\n",
        "\n",
        "            # flipping\n",
        "            if use_flip_axis:\n",
        "                augmented_image.append(flip_axis(dataset[num],1))\n",
        "                augmented_image_labels.append(dataset_labels[num])\n",
        "\n",
        "            #random rotation\n",
        "            #if use_random_rotation:\n",
        "               # augmented_image.append(tf.keras.preprocessing.image.random_rotation(dataset[num], 40, row_axis=1, col_axis=2, channel_axis=0, fill_mode='nearest'))\n",
        "                #augmented_image_labels.append(dataset_labels[num])\n",
        "            if use_random_rotation:\n",
        "                augmented_image.append(tf.keras.preprocessing.image.random_rotation(dataset[num], 180, row_axis=1, col_axis=2, channel_axis=0, fill_mode='nearest'))\n",
        "                augmented_image_labels.append(dataset_labels[num])\n",
        "            #random spatial shear\n",
        "            if use_random_shear:\n",
        "                augmented_image.append(tf.keras.preprocessing.image.random_shear(dataset[num], 0.2, row_axis=0, col_axis=1, channel_axis=0))\n",
        "                augmented_image_labels.append(dataset_labels[num])\n",
        "            #random spatial shift\n",
        "            if use_random_shift:\n",
        "                augmented_image.append(tf.keras.preprocessing.image.random_shift(dataset[num], 0.2, 0.2, row_axis=1, col_axis=2, channel_axis=0, fill_mode='nearest'))\n",
        "                augmented_image_labels.append(dataset_labels[num])\n",
        "            if use_random_brightness:\n",
        "               augmented_image.append(tf.keras.preprocessing.image.random_brightness(dataset[num], [0.2, 0.5]))\n",
        "               augmented_image_labels.append(dataset_labels[num])\n",
        "\n",
        "    return np.array(augmented_image), np.array(augmented_image_labels)\n"
      ]
    },
    {
      "cell_type": "code",
      "execution_count": null,
      "metadata": {
        "id": "Z-sjH5ZsuNQr"
      },
      "outputs": [],
      "source": [
        "#apply data augmentation\n",
        "img_augmented_4, label_augmented_4 = augment_data(Xtrain_4, ytrain_4, augementation_factor=1, use_flip_axis=True,\n",
        "                                                      use_random_rotation=True, use_random_shear=True, use_random_shift=True, use_random_brightness= False)"
      ]
    },
    {
      "cell_type": "code",
      "execution_count": null,
      "metadata": {
        "colab": {
          "base_uri": "https://localhost:8080/"
        },
        "id": "VzmSRjzIuNQs",
        "outputId": "de41334f-f8cf-48bc-d004-0a86e75bf28a"
      },
      "outputs": [
        {
          "name": "stdout",
          "output_type": "stream",
          "text": [
            "(870, 71, 22, 1)\n",
            "(174, 71, 22, 1)\n"
          ]
        }
      ],
      "source": [
        "print(img_augmented_4.shape)\n",
        "print(Xtrain_4.shape)"
      ]
    },
    {
      "cell_type": "code",
      "execution_count": null,
      "metadata": {
        "colab": {
          "base_uri": "https://localhost:8080/",
          "height": 303
        },
        "id": "yVWaAl6LuNQs",
        "outputId": "c1216540-e5ed-4b15-c310-87f555a2104e"
      },
      "outputs": [
        {
          "name": "stdout",
          "output_type": "stream",
          "text": [
            "[2.]\n",
            "[2.]\n"
          ]
        },
        {
          "data": {
            "image/png": "[encoded data removed]",
            "text/plain": [
              "<Figure size 432x288 with 2 Axes>"
            ]
          },
          "metadata": {},
          "output_type": "display_data"
        }
      ],
      "source": [
        "plt.subplot(121)\n",
        "img=np.reshape(img_augmented_4[34], (71, 22))\n",
        "plt.imshow(img)\n",
        "print(label_augmented_4[34])\n",
        "\n",
        "plt.subplot(122)\n",
        "img=np.reshape(img_augmented_4[35], (71, 22))\n",
        "plt.imshow(img)\n",
        "print(label_augmented_4[35])"
      ]
    },
    {
      "cell_type": "markdown",
      "metadata": {
        "id": "8zpZg0TRt_yW"
      },
      "source": [
        "##Model_4"
      ]
    },
    {
      "cell_type": "code",
      "execution_count": null,
      "metadata": {
        "colab": {
          "base_uri": "https://localhost:8080/"
        },
        "id": "R6wtlfebt_yW",
        "outputId": "43245b2c-37db-4c75-ff51-00e2cb7148fe"
      },
      "outputs": [
        {
          "name": "stdout",
          "output_type": "stream",
          "text": [
            "Model: \"sequential_6\"\n",
            "_________________________________________________________________\n",
            " Layer (type)                Output Shape              Param #   \n",
            "=================================================================\n",
            " conv2d_2 (Conv2D)           (None, 69, 20, 64)        640       \n",
            "                                                                 \n",
            " batch_normalization_2 (Batc  (None, 69, 20, 64)       256       \n",
            " hNormalization)                                                 \n",
            "                                                                 \n",
            " max_pooling2d_2 (MaxPooling  (None, 34, 10, 64)       0         \n",
            " 2D)                                                             \n",
            "                                                                 \n",
            " flatten_2 (Flatten)         (None, 21760)             0         \n",
            "                                                                 \n",
            " dense_9 (Dense)             (None, 512)               11141632  \n",
            "                                                                 \n",
            " dropout_3 (Dropout)         (None, 512)               0         \n",
            "                                                                 \n",
            " dense_10 (Dense)            (None, 4)                 2052      \n",
            "                                                                 \n",
            "=================================================================\n",
            "Total params: 11,144,580\n",
            "Trainable params: 11,144,452\n",
            "Non-trainable params: 128\n",
            "_________________________________________________________________\n"
          ]
        }
      ],
      "source": [
        "#model with 71x22 images\n",
        "from keras.layers import GaussianNoise\n",
        "def create_model_4():\n",
        "  model = models.Sequential([\n",
        "\n",
        "    layers.Conv2D(64, 3, activation='relu', input_shape=(71,22,1)),\n",
        "    layers.BatchNormalization(),\n",
        "    layers.MaxPooling2D((2, 2)),\n",
        "\n",
        "    layers.Flatten(),\n",
        "\n",
        "    layers.Dense(512, activation='relu'),\n",
        "    layers.Dropout(0.5),\n",
        "\n",
        "    layers.Dense(4, activation='softmax'),\n",
        "  ])\n",
        "  return model\n",
        "\n",
        "# Create a basic model instance\n",
        "model_4 = create_model_4()\n",
        "\n",
        "# Show a summary of the model. Check the number of trainable parameters\n",
        "model_4.summary()"
      ]
    },
    {
      "cell_type": "code",
      "execution_count": null,
      "metadata": {
        "colab": {
          "base_uri": "https://localhost:8080/"
        },
        "id": "6aoFr2IJt_yX",
        "outputId": "4af28623-9fc5-44ad-ebe3-44b9e3e134bd"
      },
      "outputs": [
        {
          "name": "stdout",
          "output_type": "stream",
          "text": [
            "Epoch 1/20\n",
            "73/73 [==============================] - 7s 93ms/step - loss: 1.2169 - accuracy: 0.4414 - val_loss: 1.3350 - val_accuracy: 0.4933\n",
            "Epoch 2/20\n",
            "73/73 [==============================] - 6s 85ms/step - loss: 0.9640 - accuracy: 0.6138 - val_loss: 1.2985 - val_accuracy: 0.4933\n",
            "Epoch 3/20\n",
            "73/73 [==============================] - 6s 86ms/step - loss: 0.8605 - accuracy: 0.6667 - val_loss: 1.2554 - val_accuracy: 0.6533\n",
            "Epoch 4/20\n",
            "73/73 [==============================] - 6s 85ms/step - loss: 0.7866 - accuracy: 0.6828 - val_loss: 1.1833 - val_accuracy: 0.7467\n",
            "Epoch 5/20\n",
            "73/73 [==============================] - 6s 86ms/step - loss: 0.7218 - accuracy: 0.7379 - val_loss: 1.1002 - val_accuracy: 0.7867\n",
            "Epoch 6/20\n",
            "73/73 [==============================] - 6s 86ms/step - loss: 0.6604 - accuracy: 0.7586 - val_loss: 0.9779 - val_accuracy: 0.7867\n",
            "Epoch 7/20\n",
            "73/73 [==============================] - 6s 86ms/step - loss: 0.6460 - accuracy: 0.7736 - val_loss: 0.8411 - val_accuracy: 0.7867\n",
            "Epoch 8/20\n",
            "73/73 [==============================] - 6s 86ms/step - loss: 0.5980 - accuracy: 0.7874 - val_loss: 0.7139 - val_accuracy: 0.8133\n",
            "Epoch 9/20\n",
            "73/73 [==============================] - 6s 84ms/step - loss: 0.5440 - accuracy: 0.8310 - val_loss: 0.6239 - val_accuracy: 0.8267\n",
            "Epoch 10/20\n",
            "73/73 [==============================] - 6s 85ms/step - loss: 0.5412 - accuracy: 0.8253 - val_loss: 0.5678 - val_accuracy: 0.7867\n",
            "Epoch 11/20\n",
            "73/73 [==============================] - 6s 85ms/step - loss: 0.5062 - accuracy: 0.8276 - val_loss: 0.5233 - val_accuracy: 0.8133\n",
            "Epoch 12/20\n",
            "73/73 [==============================] - 6s 85ms/step - loss: 0.4636 - accuracy: 0.8540 - val_loss: 0.5023 - val_accuracy: 0.8133\n",
            "Epoch 13/20\n",
            "73/73 [==============================] - 6s 85ms/step - loss: 0.4509 - accuracy: 0.8506 - val_loss: 0.5002 - val_accuracy: 0.8267\n",
            "Epoch 14/20\n",
            "73/73 [==============================] - 6s 84ms/step - loss: 0.4314 - accuracy: 0.8667 - val_loss: 0.4939 - val_accuracy: 0.8267\n",
            "Epoch 15/20\n",
            "73/73 [==============================] - 6s 85ms/step - loss: 0.4270 - accuracy: 0.8655 - val_loss: 0.4650 - val_accuracy: 0.8000\n",
            "Epoch 16/20\n",
            "73/73 [==============================] - 6s 84ms/step - loss: 0.4279 - accuracy: 0.8494 - val_loss: 0.4722 - val_accuracy: 0.8267\n",
            "Epoch 17/20\n",
            "73/73 [==============================] - 6s 84ms/step - loss: 0.3890 - accuracy: 0.8862 - val_loss: 0.4528 - val_accuracy: 0.8133\n",
            "Epoch 18/20\n",
            "73/73 [==============================] - 6s 86ms/step - loss: 0.3702 - accuracy: 0.8759 - val_loss: 0.4335 - val_accuracy: 0.8133\n",
            "Epoch 19/20\n",
            "73/73 [==============================] - 6s 85ms/step - loss: 0.3761 - accuracy: 0.8782 - val_loss: 0.4475 - val_accuracy: 0.8133\n",
            "Epoch 20/20\n",
            "73/73 [==============================] - 6s 86ms/step - loss: 0.3520 - accuracy: 0.8862 - val_loss: 0.4383 - val_accuracy: 0.8000\n"
          ]
        }
      ],
      "source": [
        "# This function keeps the initial learning rate for the first ten epochs\n",
        "# and decreases it exponentially after that.\n",
        "\n",
        "def scheduler(num_epoch, lr):\n",
        "  if num_epoch < 5:\n",
        "    return lr\n",
        "  else:\n",
        "    return lr * tf.math.exp(-0.1)\n",
        "num_epochs = 20\n",
        "\n",
        "callback = tf.keras.callbacks.LearningRateScheduler(scheduler)\n",
        "\n",
        "model_4.compile(optimizer=tf.keras.optimizers.SGD(learning_rate=0.0001, momentum=0.9),\n",
        "              loss=tf.keras.losses.SparseCategoricalCrossentropy(from_logits=False),\n",
        "              metrics=['accuracy'])\n",
        "\n",
        "history = model_4.fit(img_augmented_4, label_augmented_4, epochs=num_epochs,  batch_size=12, validation_data=(Xvalid_4, yvalid_4), verbose=1)\n"
      ]
    },
    {
      "cell_type": "code",
      "execution_count": null,
      "metadata": {
        "colab": {
          "base_uri": "https://localhost:8080/",
          "height": 563
        },
        "id": "tYTYtoKAt_yX",
        "outputId": "365354b7-e971-4555-cf83-cb025c1efb0b"
      },
      "outputs": [
        {
          "data": {
            "text/plain": [
              "[<matplotlib.lines.Line2D at 0x7f8a1bb80e50>]"
            ]
          },
          "execution_count": 81,
          "metadata": {},
          "output_type": "execute_result"
        },
        {
          "data": {
            "image/png": "[encoded data removed]",
            "text/plain": [
              "<Figure size 432x288 with 1 Axes>"
            ]
          },
          "metadata": {},
          "output_type": "display_data"
        },
        {
          "data": {
            "image/png": "[encoded data removed]",
            "text/plain": [
              "<Figure size 432x288 with 1 Axes>"
            ]
          },
          "metadata": {},
          "output_type": "display_data"
        }
      ],
      "source": [
        "import matplotlib.pyplot as plt\n",
        "\n",
        "epochs = num_epochs\n",
        "plt.figure()\n",
        "plt.title('Training and validation loss')\n",
        "plt.plot(np.arange(0, epochs), history.history[\"loss\"], label=\"train_loss\")\n",
        "plt.plot(np.arange(0, epochs), history.history[\"val_loss\"], label=\"val_loss\")\n",
        "\n",
        "plt.figure()\n",
        "plt.title('Training and validation accuracy')\n",
        "plt.plot(np.arange(0, epochs), history.history[\"accuracy\"], label=\"train_acc\")\n",
        "plt.plot(np.arange(0, epochs), history.history[\"val_accuracy\"], label=\"val_acc\")"
      ]
    },
    {
      "cell_type": "code",
      "execution_count": null,
      "metadata": {
        "colab": {
          "base_uri": "https://localhost:8080/",
          "height": 516
        },
        "id": "vdvWBHgKt_yX",
        "outputId": "54396240-dd46-491c-bd94-dfb0bf3cbd65"
      },
      "outputs": [
        {
          "name": "stdout",
          "output_type": "stream",
          "text": [
            "              precision    recall  f1-score   support\n",
            "\n",
            "         0.0       0.64      0.64      0.64        11\n",
            "         1.0       0.82      0.90      0.86        10\n",
            "         2.0       0.86      0.94      0.90        32\n",
            "         3.0       1.00      0.60      0.75        10\n",
            "\n",
            "    accuracy                           0.83        63\n",
            "   macro avg       0.83      0.77      0.78        63\n",
            "weighted avg       0.84      0.83      0.82        63\n",
            "\n",
            "accuracy: 0.8253968253968254\n",
            "2\n",
            "0\n"
          ]
        },
        {
          "data": {
            "image/png": "[encoded data removed]",
            "text/plain": [
              "<Figure size 432x288 with 2 Axes>"
            ]
          },
          "metadata": {},
          "output_type": "display_data"
        }
      ],
      "source": [
        "#results:\n",
        "import sklearn\n",
        "from sklearn.metrics import accuracy_score\n",
        "from sklearn.metrics import confusion_matrix\n",
        "#y_pred = model.predict_classes(X_test)\n",
        "y_pred_4= np.argmax(model_4.predict(X_test_4),1)\n",
        "\n",
        "\n",
        "print(sklearn.metrics.classification_report(y_test_4, y_pred_4))\n",
        "a = accuracy_score(y_test_4, y_pred_4)\n",
        "print(\"accuracy:\",a)\n",
        "plt.subplot(121)\n",
        "img=np.reshape(X_test_4[20], (71, 22))\n",
        "plt.imshow(img)\n",
        "\n",
        "print(y_pred_4[20])\n",
        "plt.subplot(122)\n",
        "img_1=np.reshape(X_test_4[4], (71, 22))\n",
        "plt.imshow(img_1)\n",
        "print(y_pred_4[4])"
      ]
    },
    {
      "cell_type": "code",
      "execution_count": null,
      "metadata": {
        "id": "lrSxjoszt_yX"
      },
      "outputs": [],
      "source": [
        "y_predicted_4 = model_4.predict(X_test_4) #predict will return the scores of the model and predict_class will return the class of your predictions. Although it seems similar there are some differences:\n",
        "pred_class_4 = np.argmax(y_predicted_4, axis=1)  #argmax tra le colonne (axis =1)\n"
      ]
    },
    {
      "cell_type": "code",
      "execution_count": null,
      "metadata": {
        "colab": {
          "base_uri": "https://localhost:8080/",
          "height": 287
        },
        "id": "U9qcP8sOt_yY",
        "outputId": "0f053ad6-824e-4cff-814f-1c36f7b49ab0"
      },
      "outputs": [
        {
          "data": {
            "text/plain": [
              "<matplotlib.axes._subplots.AxesSubplot at 0x7f8a1bb8f790>"
            ]
          },
          "execution_count": 84,
          "metadata": {},
          "output_type": "execute_result"
        },
        {
          "data": {
            "image/png": "[encoded data removed]",
            "text/plain": [
              "<Figure size 432x288 with 2 Axes>"
            ]
          },
          "metadata": {},
          "output_type": "display_data"
        }
      ],
      "source": [
        "from sklearn.metrics import confusion_matrix\n",
        "import seaborn as sns\n",
        "conf = confusion_matrix(y_test_4, pred_class_4)\n",
        "#print(conf)\n",
        "sns.heatmap(conf, annot=True, fmt=\"d\")"
      ]
    },
    {
      "cell_type": "code",
      "execution_count": null,
      "metadata": {
        "colab": {
          "base_uri": "https://localhost:8080/",
          "height": 283
        },
        "id": "muisYZ-4t_yY",
        "outputId": "c69cb64c-dd12-4ef9-c264-af52d15a8e77"
      },
      "outputs": [
        {
          "data": {
            "text/plain": [
              "<matplotlib.axes._subplots.AxesSubplot at 0x7f8a1eff12d0>"
            ]
          },
          "execution_count": 85,
          "metadata": {},
          "output_type": "execute_result"
        },
        {
          "data": {
            "image/png": "[encoded data removed]",
            "text/plain": [
              "<Figure size 432x288 with 2 Axes>"
            ]
          },
          "metadata": {},
          "output_type": "display_data"
        }
      ],
      "source": [
        "cm = conf.astype('float') / conf.sum(axis=1)\n",
        "sns.heatmap(cm, annot=True,\n",
        "            fmt='.2%')"
      ]
    },
    {
      "cell_type": "code",
      "execution_count": null,
      "metadata": {
        "id": "O4cgnPmkzWWe"
      },
      "outputs": [],
      "source": []
    }
  ],
  "metadata": {
    "accelerator": "GPU",
    "colab": {
      "collapsed_sections": [
        "tREz54COJjOA",
        "yas3j_QXLQAO",
        "GpfCac25FUnB",
        "xyrgy6PPCBQk"
      ],
      "provenance": [],
      "toc_visible": true
    },
    "kernelspec": {
      "display_name": "Python 3",
      "name": "python3"
    },
    "language_info": {
      "name": "python"
    }
  },
  "nbformat": 4,
  "nbformat_minor": 0
}
